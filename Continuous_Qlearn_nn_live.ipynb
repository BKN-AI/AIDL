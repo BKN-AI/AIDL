{
  "nbformat": 4,
  "nbformat_minor": 0,
  "metadata": {
    "colab": {
      "name": "Continuous_Qlearn_nn_live.ipynb",
      "provenance": [],
      "collapsed_sections": [
        "hIYC7IeEwrlt",
        "RzOcEmlJw6gb"
      ]
    },
    "kernelspec": {
      "name": "python3",
      "display_name": "Python 3"
    },
    "language_info": {
      "name": "python"
    },
    "accelerator": "GPU"
  },
  "cells": [
    {
      "cell_type": "markdown",
      "metadata": {
        "id": "0spTu6Dawi2S"
      },
      "source": [
        "# DQN example in PyTorch\n",
        "\n",
        "This notebook is adapted from the [official DQN tutorial](https://pytorch.org/tutorials/intermediate/reinforcement_q_learning.html). Unlike the tutorial, we will use the standard observation instead of the RGB images."
      ]
    },
    {
      "cell_type": "markdown",
      "metadata": {
        "id": "wueVtZCaOTPT"
      },
      "source": [
        "The aim is to train an agent that is capable of solving the Pendulum problem, where the goal is to swing it up so it stays upright. The agent can interact with the environment by applying a torque force (+2/-2) to the pendulum base. The main difference with AIDL Lab, is continuous control (can take any value inside the domain of torque force). On CartPole from AIDL Lab the discrete control has two actions, being 0 (move to the left, and 1(move to the right). The agent receives 0 reward for each timestep under the desired conditions (pendulum standing up) otherwise the agent will recieve a negative reward.\n",
        "\n",
        "Visualize a rollout of a random agent in the [Pendumlum-v0](https://gym.openai.com/envs/Pendulum-v0/) environment. Use the [documentation](https://github.com/openai/gym/wiki/Pendulum-v0) for OpenAI Gym as a reference."
      ]
    },
    {
      "cell_type": "markdown",
      "metadata": {
        "id": "agxpFaozTHC5"
      },
      "source": [
        "The lines in the code that has been modified are commented with [Juan Diego].\n",
        "The modifications correspon to create a function \"get_env_actionv\" where it discretizes the torque force domain in \"n\" actions.\n",
        "\n",
        "The domain for Gym continious problems are retrieved using :\n",
        "\n",
        "*   env.action_space.low\n",
        "*   env.action_space.high\n",
        "\n",
        "So, it can be used for any Gym continuous environment, with one more hyperparameters, \"n\" discrtizations for the action."
      ]
    },
    {
      "cell_type": "code",
      "metadata": {
        "id": "Y6HRPJ_4ioex",
        "cellView": "form"
      },
      "source": [
        "#@title Train/eval selection\n",
        "#@markdown Sometimes the notebook will crash when running an evaluation rollout (with render=True) after training. If this happens, you can skip training and load a pre-trained model with the checkboxes below.\n",
        "\n",
        "train_model = True #@param {type:\"boolean\"}\n",
        "load_model = False #@param {type:\"boolean\"}\n"
      ],
      "execution_count": null,
      "outputs": []
    },
    {
      "cell_type": "markdown",
      "metadata": {
        "id": "hIYC7IeEwrlt"
      },
      "source": [
        "## Installing dependencies\n",
        "\n",
        "We will use OpenAI Gym to simulate the environment, which might not be installed by default. We also need to install some dependencies for visualization purposes (this may take a while)."
      ]
    },
    {
      "cell_type": "code",
      "metadata": {
        "id": "CzIQRNbgbcao"
      },
      "source": [
        "!pip install gym pyvirtualdisplay > /dev/null 2>&1\n",
        "!apt-get install -y xvfb python-opengl ffmpeg > /dev/null 2>&1"
      ],
      "execution_count": null,
      "outputs": []
    },
    {
      "cell_type": "markdown",
      "metadata": {
        "id": "RzOcEmlJw6gb"
      },
      "source": [
        "## Setting up the environment\n",
        "\n",
        "We will need some tricks to visualize the simulations in the browser, as simply calling env.render() will not work in this notebook ([source](https://colab.research.google.com/drive/1flu31ulJlgiRL1dnN2ir8wGh9p7Zij2t#scrollTo=Jyb2Ujuozfi2&forceEdit=true&offline=true&sandboxMode=true))."
      ]
    },
    {
      "cell_type": "code",
      "metadata": {
        "id": "LrTTfxNobDQj"
      },
      "source": [
        "import os\n",
        "import gym\n",
        "import time\n",
        "import random\n",
        "import numpy as np\n",
        "import matplotlib.pyplot as plt\n",
        "from collections import namedtuple"
      ],
      "execution_count": null,
      "outputs": []
    },
    {
      "cell_type": "code",
      "metadata": {
        "id": "autjOxWpbNd_"
      },
      "source": [
        "from gym import logger as gymlogger\n",
        "from gym.wrappers import Monitor\n",
        "gymlogger.set_level(40) #error only\n",
        "\n",
        "import math\n",
        "import glob\n",
        "import io\n",
        "import base64\n",
        "from IPython.display import HTML\n",
        "from IPython import display as ipythondisplay"
      ],
      "execution_count": null,
      "outputs": []
    },
    {
      "cell_type": "code",
      "metadata": {
        "id": "DXB3El1gbO5M"
      },
      "source": [
        "import torch\n",
        "import torch.nn as nn\n",
        "import torch.nn.functional as F\n",
        "\n",
        "# if gpu is to be used\n",
        "device = torch.device(\"cuda\" if torch.cuda.is_available() else \"cpu\")"
      ],
      "execution_count": null,
      "outputs": []
    },
    {
      "cell_type": "code",
      "metadata": {
        "colab": {
          "base_uri": "https://localhost:8080/"
        },
        "id": "eJN4vcUvbQG6",
        "outputId": "010c42bc-049c-4b33-f543-ea1eca9500e6"
      },
      "source": [
        "print('PyTorch version: ', torch.__version__)\n",
        "print('Using GPU:', ['no', 'yes'][int(torch.cuda.is_available())])"
      ],
      "execution_count": null,
      "outputs": [
        {
          "output_type": "stream",
          "text": [
            "PyTorch version:  1.8.1+cu101\n",
            "Using GPU: yes\n"
          ],
          "name": "stdout"
        }
      ]
    },
    {
      "cell_type": "code",
      "metadata": {
        "colab": {
          "base_uri": "https://localhost:8080/"
        },
        "id": "dCYrDFAQbYpy",
        "outputId": "c8f2aebc-27d9-475f-d1be-67ef0032c8e0"
      },
      "source": [
        "from pyvirtualdisplay import Display\n",
        "display = Display(visible=0, size=(1400, 900))\n",
        "display.start()"
      ],
      "execution_count": null,
      "outputs": [
        {
          "output_type": "execute_result",
          "data": {
            "text/plain": [
              "<pyvirtualdisplay.display.Display at 0x7f57ea65e050>"
            ]
          },
          "metadata": {
            "tags": []
          },
          "execution_count": 110
        }
      ]
    },
    {
      "cell_type": "code",
      "metadata": {
        "id": "EJouLmncb8oN"
      },
      "source": [
        "def show_video():\n",
        "  mp4list = glob.glob('video/*.mp4')\n",
        "  if len(mp4list) > 0:\n",
        "    mp4 = mp4list[0]\n",
        "    video = io.open(mp4, 'r+b').read()\n",
        "    encoded = base64.b64encode(video)\n",
        "    ipythondisplay.display(HTML(data='''<video alt=\"test\" autoplay \n",
        "                loop controls style=\"height: 400px;\">\n",
        "                <source src=\"data:video/mp4;base64,{0}\" type=\"video/mp4\" />\n",
        "             </video>'''.format(encoded.decode('ascii'))))\n",
        "  else: \n",
        "    print(\"Could not find video\")\n",
        "    \n",
        "def wrap_env(env):\n",
        "  env = Monitor(env, './video', force=True)\n",
        "  return env"
      ],
      "execution_count": null,
      "outputs": []
    },
    {
      "cell_type": "markdown",
      "metadata": {
        "id": "5XIB8KMAw1HL"
      },
      "source": [
        "## Replay memory\n",
        "\n",
        "The buffer will be a FIFO queue: when full, oldest experiences are removed to make room for new transitions.\n",
        "\n",
        "**Exercise #2.** Implement the pointer to the next position to be filled in the replay memory, which corresponds to a FIFO queue.\n",
        "(TIP: remember the [modulus % operator](https://python-reference.readthedocs.io/en/latest/docs/operators/modulus.html))."
      ]
    },
    {
      "cell_type": "code",
      "metadata": {
        "id": "qV35Xkw9eYCF"
      },
      "source": [
        "Transition = namedtuple(\n",
        "    'Transition', ('state', 'action', 'next_state', 'reward'))\n",
        "\n",
        "\n",
        "class ReplayMemory(object):\n",
        "    def __init__(self, capacity):\n",
        "        self.capacity = capacity\n",
        "        self.memory = []\n",
        "        self.position = 0\n",
        "\n",
        "    def push(self, *args):\n",
        "        \"\"\"Saves a transition.\"\"\"\n",
        "        if len(self.memory) < self.capacity:\n",
        "            self.memory.append(None)\n",
        "        self.memory[self.position] = Transition(*args)\n",
        "        # TODO: Update the pointer to the next position in the replay memory\n",
        "        self.position = (self.position + 1) % self.capacity\n",
        "\n",
        "    def sample(self, batch_size):\n",
        "        return random.sample(self.memory, batch_size)\n",
        "\n",
        "    def __len__(self):\n",
        "        return len(self.memory)"
      ],
      "execution_count": null,
      "outputs": []
    },
    {
      "cell_type": "markdown",
      "metadata": {
        "id": "HeZXG6VHygrD"
      },
      "source": [
        "## Create the model\n",
        "\n",
        "Now we will define our policy, parameterized by a feedforward neural network.\n",
        "\n",
        "**Exercise #3.** Complete the forward method of a [neural network in PyTorch](https://pytorch.org/tutorials/beginner/blitz/neural_networks_tutorial.html) by composing the two linear layer of perceptrons with a ReLU activation in between."
      ]
    },
    {
      "cell_type": "code",
      "metadata": {
        "id": "hWTdoEChb-Yt"
      },
      "source": [
        "class DQN(nn.Module):\n",
        "    def __init__(self, inputs, outputs, hidden_size=128):\n",
        "        super(DQN, self).__init__()\n",
        "        self.affine1 = nn.Linear(inputs, hidden_size)\n",
        "        self.affine2 = nn.Linear(hidden_size, outputs)\n",
        "\n",
        "    # Called with either one element to determine next action, or a batch\n",
        "    # during optimization. Returns tensor([[left0exp,right0exp]...]).\n",
        "    # TODO: Define the operations in the forward pass. \n",
        "    def forward(self, x):\n",
        "        hidden = self.affine1(x)\n",
        "        hidden = F.relu(hidden)\n",
        "        q_values = self.affine2(hidden)\n",
        "        return q_values"
      ],
      "execution_count": null,
      "outputs": []
    },
    {
      "cell_type": "markdown",
      "metadata": {
        "id": "0T02F2uyndg5"
      },
      "source": [
        "## Functions for collecting experience and updating the policy\n",
        "\n",
        "**Exercise #4.** Complete eps_greedy policy to facilitate the exploration.\n",
        "\n",
        "**Exercise #5.** Complete with `policy_net` or `target_net` the `TODO_net` in the code.\n"
      ]
    },
    {
      "cell_type": "code",
      "metadata": {
        "id": "lcXYBZNznd96"
      },
      "source": [
        "def compute_eps_threshold(step, eps_start, eps_end, eps_decay):\n",
        "  return eps_end + (eps_start - eps_end) * math.exp(-1. * step / eps_decay) #Exponential decay on eps for exploring solution vs greedy\n",
        "\n",
        "\n",
        "def select_action(policy, state, eps_greedy_threshold, n_actions):\n",
        "    # TODO: Select action using an epsilon-greedy strategy\n",
        "    if random.random() > eps_greedy_threshold:\n",
        "      with torch.no_grad():\n",
        "            # t.max(1) will return largest column value of each row.\n",
        "            # second column on max result is index of where max element was\n",
        "            # found, so we pick action with the larger expected reward.\n",
        "            action = policy(state).max(1)[1].view(1, 1)\n",
        "    else:\n",
        "      action = torch.tensor(\n",
        "          [[random.randrange(n_actions)]], device=device, dtype=torch.long)\n",
        "    return action\n",
        "\n",
        "\n",
        "#[Juan Diego] Discritezer action function (input = action from select_action())\n",
        "def get_env_action(action):\n",
        "  actions = torch.from_numpy(np.linspace(env.action_space.low, env.action_space.high, n_actions))\n",
        "  action = actions[action]\n",
        "  return action\n",
        "\n",
        "    \n",
        "def train(policy_net, target_net, optimizer, memory, batch_size, gamma):\n",
        "    if len(memory) < batch_size:\n",
        "        return\n",
        "    transitions = memory.sample(batch_size)\n",
        "    # Transpose the batch (see https://stackoverflow.com/a/19343/3343043 for\n",
        "    # detailed explanation). This converts batch-array of Transitions\n",
        "    # to Transition of batch-arrays.\n",
        "    batch = Transition(*zip(*transitions))\n",
        "\n",
        "    # Compute a mask of non-final states and concatenate the batch elements\n",
        "    # (a final state would've been the one after which simulation ended)\n",
        "    non_final_mask = torch.tensor(\n",
        "        tuple(map(lambda s: s is not None, batch.next_state)), \n",
        "        device=device, \n",
        "        dtype=torch.bool)\n",
        "    non_final_next_states = torch.cat(\n",
        "        [s for s in batch.next_state if s is not None])\n",
        "    state_batch = torch.cat(batch.state)\n",
        "    action_batch = torch.cat(batch.action)\n",
        "    reward_batch = torch.cat(batch.reward)\n",
        "\n",
        "    # Compute Q(s_t, a) - the model computes Q(s_t) for all a, then we select \n",
        "    # the columns of actions taken.\n",
        "    state_action_values = policy_net(state_batch).gather(1, action_batch)\n",
        "\n",
        "    # Compute Q(s_{t+1}) for all next states.\n",
        "    # Expected values of actions for non_final_next_states are computed based\n",
        "    # on the \"older\" target_net; selecting their best reward with max(1)[0].\n",
        "    # This is merged based on the mask, such that we'll have either the expected\n",
        "    # state value or 0 in case the state was final.\n",
        "    # Note the call to detach() on Q(s_{t+1}), which prevents gradient flow\n",
        "    next_state_values = torch.zeros(batch_size, device=device)\n",
        "    next_state_values[non_final_mask] = target_net(\n",
        "        non_final_next_states).max(1)[0].detach()\n",
        "        \n",
        "    # Compute targets for Q values: y_t = r_t + max(Q_{t+1})\n",
        "    expected_state_action_values = reward_batch + (next_state_values * gamma)\n",
        "\n",
        "    # Compute Pseudo-Huber loss between predicted Q values and targets y\n",
        "    loss = F.smooth_l1_loss(\n",
        "        state_action_values, expected_state_action_values.unsqueeze(1))\n",
        "\n",
        "    # Take an SGD step\n",
        "    optimizer.zero_grad()\n",
        "    loss.backward()\n",
        "    optimizer.step()\n",
        "    \n",
        "    \n",
        "def test(env, policy, render=False):\n",
        "    state, ep_reward, done = env.reset(), 0, False\n",
        "    while not done:\n",
        "        if render:\n",
        "          env.render()\n",
        "        state = torch.from_numpy(state).float().unsqueeze(0).to(device)\n",
        "        action = select_action(policy_net, state, 0., 1)\n",
        "        state, reward, done, _ = env.step(get_env_action(action)) #[Juan Diego] Call the discritezed action function\n",
        "        ep_reward += reward\n",
        "    return ep_reward"
      ],
      "execution_count": null,
      "outputs": []
    },
    {
      "cell_type": "markdown",
      "metadata": {
        "id": "wr4pSznznosA"
      },
      "source": [
        "## Training the agent"
      ]
    },
    {
      "cell_type": "code",
      "metadata": {
        "id": "0tJ7RcgfnxPa"
      },
      "source": [
        "# Hyperparameters definition\n",
        "env_name = 'Pendulum-v0'\n",
        "gamma = 0.99  # discount factor\n",
        "seed = 543  # random seed\n",
        "log_interval = 25  # controls how often we log progress, in episodes (test)\n",
        "num_steps = 30e4  # number of steps to train on\n",
        "batch_size = 256  # batch size for optimization\n",
        "lr = 1e-4  # learning rate\n",
        "eps_start = 1.0  # initial value for epsilon (in epsilon-greedy)\n",
        "eps_end = 0.1  # final value for epsilon (in epsilon-greedy)\n",
        "eps_decay = num_steps  # length of epsilon decay, in env steps\n",
        "target_update = 1000  # how often to update target net, in env steps"
      ],
      "execution_count": null,
      "outputs": []
    },
    {
      "cell_type": "code",
      "metadata": {
        "id": "t93ebc2uEf0b"
      },
      "source": [
        "# The default reward is +1 for any (s,a) pair. We can make the task easier\n",
        "# by giving a negative reward (e.g. -10) when the pole falls.\n",
        "# You can try modifying/removing this reward shaping and see what happens.\n",
        "# This is a clear example of the importance of reward in RL.\n",
        "def reward_shaper(rew, done):\n",
        "  return rew if not done else 0 #[Juan Diego] Stated as 0, does not make sense for Pendulum env."
      ],
      "execution_count": null,
      "outputs": []
    },
    {
      "cell_type": "code",
      "metadata": {
        "id": "nLb1oPuGoJpJ"
      },
      "source": [
        "# Create environment\n",
        "env = gym.make(env_name)\n",
        "\n",
        "# Fix random seed (for reproducibility)\n",
        "env.seed(seed)\n",
        "torch.manual_seed(seed)\n",
        "torch.cuda.manual_seed(seed)"
      ],
      "execution_count": null,
      "outputs": []
    },
    {
      "cell_type": "code",
      "metadata": {
        "id": "IMHyB9Xyfaqm"
      },
      "source": [
        "# Get number of actions from gym action space\n",
        "n_inputs = env.observation_space.shape[0]\n",
        "n_actions = 100 ##[Juan Diego] Discretize the continuous domain in \"n\" actions  "
      ],
      "execution_count": null,
      "outputs": []
    },
    {
      "cell_type": "markdown",
      "metadata": {
        "id": "tN_AtyQ1wsH1"
      },
      "source": [
        "**Exercise #6.** Complete the call to `memory_push`."
      ]
    },
    {
      "cell_type": "code",
      "metadata": {
        "id": "9AGdVUq4nrWg",
        "colab": {
          "base_uri": "https://localhost:8080/"
        },
        "outputId": "9ff91b81-8810-48e0-d7ca-b59ee153c8ea"
      },
      "source": [
        "if train_model:\n",
        "  policy_net = DQN(n_inputs, n_actions).to(device)\n",
        "  target_net = DQN(n_inputs, n_actions).to(device)\n",
        "  target_net.load_state_dict(policy_net.state_dict())# Policy and tart net have the same weights\n",
        "  target_net.eval()\n",
        "\n",
        "  optimizer = torch.optim.Adam(policy_net.parameters(), lr=lr)\n",
        "  memory = ReplayMemory(10000)\n",
        "\n",
        "  print(\"Target reward: {}\".format(env.spec.reward_threshold))\n",
        "  step_count = 0\n",
        "  ep_rew_history = []\n",
        "  i_episode, ep_reward = 0, -float('inf')\n",
        "  while step_count < num_steps:\n",
        "      # Initialize the environment and state\n",
        "      state, done = env.reset(), False\n",
        "      state = torch.from_numpy(state).float().unsqueeze(0).to(device)\n",
        "      while not done:\n",
        "          # Select an action\n",
        "          eps_greedy_threshold = compute_eps_threshold(\n",
        "              step_count, eps_start, eps_end, eps_decay)\n",
        "          action = select_action(\n",
        "              policy_net, state, eps_greedy_threshold, n_actions)\n",
        "\n",
        "          # Perform action in env\n",
        "          next_state, reward, done, _ = env.step(get_env_action(action)) #[Juan Diego] Call the discritezed action function\n",
        "\n",
        "          # Bookkeeping\n",
        "          next_state = torch.from_numpy(\n",
        "              next_state).float().unsqueeze(0).to(device)\n",
        "          reward = reward_shaper(reward, done)\n",
        "          reward = torch.tensor([reward], device=device)\n",
        "          step_count += 1\n",
        "\n",
        "          # Store the transition in memory\n",
        "          memory.push(state, action, next_state, reward)\n",
        "\n",
        "          # Move to the next state\n",
        "          state = next_state\n",
        "\n",
        "          # Perform one step of the optimization (on the policy network)\n",
        "          train(policy_net, target_net, optimizer, memory, batch_size, gamma)\n",
        "          \n",
        "          # Update the target network, copying all weights and biases in DQN\n",
        "          if step_count % target_update == 0:\n",
        "              target_net.load_state_dict(policy_net.state_dict())\n",
        "\n",
        "      i_episode += 1\n",
        "\n",
        "      # Evaluate greedy policy\n",
        "      if i_episode % log_interval == 0 or step_count >= num_steps:\n",
        "          ep_reward = test(env, policy_net)\n",
        "          ep_rew_history.append((i_episode, ep_reward))\n",
        "          print('Episode {}\\tSteps: {:.2f}k'\n",
        "                '\\tEval reward: {:}'.format(\n",
        "                i_episode, step_count/1000., ep_reward))\n",
        "\n",
        "  print(\"Finished training! Eval reward: {:}\".format(ep_reward))\n",
        "  if not os.path.exists('checkpoints'):\n",
        "    os.makedirs('checkpoints')\n",
        "  torch.save(policy_net.state_dict(), 'checkpoints/dqn-{}.pt'.format(env_name))"
      ],
      "execution_count": null,
      "outputs": [
        {
          "output_type": "stream",
          "text": [
            "Target reward: None\n",
            "Episode 25\tSteps: 5.00k\tEval reward: tensor([[-1655.0100]])\n",
            "Episode 50\tSteps: 10.00k\tEval reward: tensor([[-1579.4045]])\n",
            "Episode 75\tSteps: 15.00k\tEval reward: tensor([[-1424.3497]])\n",
            "Episode 100\tSteps: 20.00k\tEval reward: tensor([[-1134.8232]])\n",
            "Episode 125\tSteps: 25.00k\tEval reward: tensor([[-1513.0247]])\n",
            "Episode 150\tSteps: 30.00k\tEval reward: tensor([[-1596.4711]])\n",
            "Episode 175\tSteps: 35.00k\tEval reward: tensor([[-1631.3667]])\n",
            "Episode 200\tSteps: 40.00k\tEval reward: tensor([[-1561.4485]])\n",
            "Episode 225\tSteps: 45.00k\tEval reward: tensor([[-1609.7938]])\n",
            "Episode 250\tSteps: 50.00k\tEval reward: tensor([[-1495.0507]])\n",
            "Episode 275\tSteps: 55.00k\tEval reward: tensor([[-1626.0651]])\n",
            "Episode 300\tSteps: 60.00k\tEval reward: tensor([[-1499.4233]])\n",
            "Episode 325\tSteps: 65.00k\tEval reward: tensor([[-1503.3901]])\n",
            "Episode 350\tSteps: 70.00k\tEval reward: tensor([[-1359.9282]])\n",
            "Episode 375\tSteps: 75.00k\tEval reward: tensor([[-1537.6844]])\n",
            "Episode 400\tSteps: 80.00k\tEval reward: tensor([[-1244.7576]])\n",
            "Episode 425\tSteps: 85.00k\tEval reward: tensor([[-1648.6241]])\n",
            "Episode 450\tSteps: 90.00k\tEval reward: tensor([[-1546.5814]])\n",
            "Episode 475\tSteps: 95.00k\tEval reward: tensor([[-1565.1536]])\n",
            "Episode 500\tSteps: 100.00k\tEval reward: tensor([[-1620.2775]])\n",
            "Episode 525\tSteps: 105.00k\tEval reward: tensor([[-1594.2273]])\n",
            "Episode 550\tSteps: 110.00k\tEval reward: tensor([[-1635.7021]])\n",
            "Episode 575\tSteps: 115.00k\tEval reward: tensor([[-1090.5652]])\n",
            "Episode 600\tSteps: 120.00k\tEval reward: tensor([[-1486.2943]])\n",
            "Episode 625\tSteps: 125.00k\tEval reward: tensor([[-1578.5242]])\n",
            "Episode 650\tSteps: 130.00k\tEval reward: tensor([[-1576.9138]])\n",
            "Episode 675\tSteps: 135.00k\tEval reward: tensor([[-1557.4568]])\n",
            "Episode 700\tSteps: 140.00k\tEval reward: tensor([[-1331.1552]])\n",
            "Episode 725\tSteps: 145.00k\tEval reward: tensor([[-1094.0153]])\n",
            "Episode 750\tSteps: 150.00k\tEval reward: tensor([[-1337.9194]])\n",
            "Episode 775\tSteps: 155.00k\tEval reward: tensor([[-1070.8444]])\n",
            "Episode 800\tSteps: 160.00k\tEval reward: tensor([[-911.4197]])\n",
            "Episode 825\tSteps: 165.00k\tEval reward: tensor([[-1091.8210]])\n",
            "Episode 850\tSteps: 170.00k\tEval reward: tensor([[-14.9829]])\n",
            "Episode 875\tSteps: 175.00k\tEval reward: tensor([[-779.2944]])\n",
            "Episode 900\tSteps: 180.00k\tEval reward: tensor([[-720.1524]])\n",
            "Episode 925\tSteps: 185.00k\tEval reward: tensor([[-246.4011]])\n",
            "Episode 950\tSteps: 190.00k\tEval reward: tensor([[-247.8339]])\n",
            "Episode 975\tSteps: 195.00k\tEval reward: tensor([[-128.8684]])\n",
            "Episode 1000\tSteps: 200.00k\tEval reward: tensor([[-125.4136]])\n",
            "Episode 1025\tSteps: 205.00k\tEval reward: tensor([[-236.3651]])\n",
            "Episode 1050\tSteps: 210.00k\tEval reward: tensor([[-129.6669]])\n",
            "Episode 1075\tSteps: 215.00k\tEval reward: tensor([[-474.8267]])\n",
            "Episode 1100\tSteps: 220.00k\tEval reward: tensor([[-124.2935]])\n",
            "Episode 1125\tSteps: 225.00k\tEval reward: tensor([[-130.1240]])\n",
            "Episode 1150\tSteps: 230.00k\tEval reward: tensor([[-6.2715]])\n",
            "Episode 1175\tSteps: 235.00k\tEval reward: tensor([[-2.2188]])\n",
            "Episode 1200\tSteps: 240.00k\tEval reward: tensor([[-125.2460]])\n",
            "Episode 1225\tSteps: 245.00k\tEval reward: tensor([[-126.5471]])\n",
            "Episode 1250\tSteps: 250.00k\tEval reward: tensor([[-4.9129]])\n",
            "Episode 1275\tSteps: 255.00k\tEval reward: tensor([[-240.9265]])\n",
            "Episode 1300\tSteps: 260.00k\tEval reward: tensor([[-359.2036]])\n",
            "Episode 1325\tSteps: 265.00k\tEval reward: tensor([[-4.9619]])\n",
            "Episode 1350\tSteps: 270.00k\tEval reward: tensor([[-120.0064]])\n",
            "Episode 1375\tSteps: 275.00k\tEval reward: tensor([[-244.7973]])\n",
            "Episode 1400\tSteps: 280.00k\tEval reward: tensor([[-122.3151]])\n",
            "Episode 1425\tSteps: 285.00k\tEval reward: tensor([[-369.2654]])\n",
            "Episode 1450\tSteps: 290.00k\tEval reward: tensor([[-438.8327]])\n",
            "Episode 1475\tSteps: 295.00k\tEval reward: tensor([[-251.0884]])\n",
            "Episode 1500\tSteps: 300.00k\tEval reward: tensor([[-125.4508]])\n",
            "Finished training! Eval reward: tensor([[-125.4508]])\n"
          ],
          "name": "stdout"
        }
      ]
    },
    {
      "cell_type": "markdown",
      "metadata": {
        "id": "Kq50E7yXNtvG"
      },
      "source": [
        "### Results:\n",
        "\n",
        "It can be seen in PLOT 1, for continious control (Pendulum-v0) it has been necessary to discretize the action domain (-2, 2) in n=100 actions. Apart from this, the reward in based on negative approach, being 0 the max reward when the pendulum is standing up, other state give a negative reward. \n",
        "\n",
        "Due to the nature of the reward, the reward_shaper has been removed. \n",
        "\n",
        "The plot shows the convergence based on achieve 0 reward. Due to exploration policy before going on greedy, the reward shows a poor perfomance (from episode 0 until 800). \n",
        "\n",
        "Once the exploration policy evolves based on the decay, the greedy policy starts to show a better performance since episode 800, close to 0 (being the max reward).\n",
        "\n",
        "The other plots, show the evolution and refinement until achieve the plot 1."
      ]
    },
    {
      "cell_type": "code",
      "metadata": {
        "colab": {
          "base_uri": "https://localhost:8080/",
          "height": 279
        },
        "id": "AvRgtYPYFwNN",
        "outputId": "b0c8ad66-4374-4ea5-eb40-bd3bd209af0a"
      },
      "source": [
        "# PLOT 1: Reward history for n=100 and 300k steps:\n",
        "if train_model:\n",
        "  plt.plot([x[0] for x in ep_rew_history], [x[1] for x in ep_rew_history])\n",
        "  plt.xlabel('Episode')\n",
        "  plt.ylabel('Reward')"
      ],
      "execution_count": null,
      "outputs": [
        {
          "output_type": "display_data",
          "data": {
            "image/png": "[encoded data removed]",
            "text/plain": [
              "<Figure size 432x288 with 1 Axes>"
            ]
          },
          "metadata": {
            "tags": [],
            "needs_background": "light"
          }
        }
      ]
    },
    {
      "cell_type": "code",
      "metadata": {
        "colab": {
          "base_uri": "https://localhost:8080/",
          "height": 279
        },
        "id": "9kOcYxSb_14W",
        "outputId": "88f96b68-dd89-420e-b9e8-0125073b10a0"
      },
      "source": [
        "# PLOT 2: Reward history for n=100 and 150k steps ()\n",
        "if train_model:\n",
        "  plt.plot([x[0] for x in ep_rew_history], [x[1] for x in ep_rew_history])\n",
        "  plt.xlabel('Episode')\n",
        "  plt.ylabel('Reward')"
      ],
      "execution_count": null,
      "outputs": [
        {
          "output_type": "display_data",
          "data": {
            "image/png": "[encoded data removed]",
            "text/plain": [
              "<Figure size 432x288 with 1 Axes>"
            ]
          },
          "metadata": {
            "tags": [],
            "needs_background": "light"
          }
        }
      ]
    },
    {
      "cell_type": "code",
      "metadata": {
        "colab": {
          "base_uri": "https://localhost:8080/",
          "height": 279
        },
        "id": "cO-hk7iS-G61",
        "outputId": "37fcf8b6-d2fb-434c-a136-6bf2bda2703d"
      },
      "source": [
        "# PLOT 3: Reward history for n=100 actions discretized\n",
        "if train_model:\n",
        "  plt.plot([x[0] for x in ep_rew_history], [x[1] for x in ep_rew_history])\n",
        "  plt.xlabel('Episode')\n",
        "  plt.ylabel('Reward')"
      ],
      "execution_count": null,
      "outputs": [
        {
          "output_type": "display_data",
          "data": {
            "image/png": "[encoded data removed]",
            "text/plain": [
              "<Figure size 432x288 with 1 Axes>"
            ]
          },
          "metadata": {
            "tags": [],
            "needs_background": "light"
          }
        }
      ]
    },
    {
      "cell_type": "code",
      "metadata": {
        "id": "9e8MsfLfUZcc",
        "colab": {
          "base_uri": "https://localhost:8080/",
          "height": 283
        },
        "outputId": "19e4b73e-4ea5-4300-eaca-611d6d27b430"
      },
      "source": [
        "# PLOT 4: Reward history for n=10 actions discretized\n",
        "if train_model:\n",
        "  plt.plot([x[0] for x in ep_rew_history], [x[1] for x in ep_rew_history])\n",
        "  plt.xlabel('Episode')\n",
        "  plt.ylabel('Reward')"
      ],
      "execution_count": null,
      "outputs": [
        {
          "output_type": "display_data",
          "data": {
            "image/png": "[encoded data removed]",
            "text/plain": [
              "<Figure size 432x288 with 1 Axes>"
            ]
          },
          "metadata": {
            "tags": [],
            "needs_background": "light"
          }
        }
      ]
    }
  ]
}