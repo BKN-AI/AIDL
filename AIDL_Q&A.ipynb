{
  "nbformat": 4,
  "nbformat_minor": 0,
  "metadata": {
    "colab": {
      "name": "AIDL_Q&A.ipynb",
      "provenance": [],
      "toc_visible": true
    },
    "kernelspec": {
      "name": "python3",
      "display_name": "Python 3"
    },
    "widgets": {
      "application/vnd.jupyter.widget-state+json": {
        "34ad00f8996941ba99c656608ef94892": {
          "model_module": "@jupyter-widgets/controls",
          "model_name": "HBoxModel",
          "state": {
            "_view_name": "HBoxView",
            "_dom_classes": [],
            "_model_name": "HBoxModel",
            "_view_module": "@jupyter-widgets/controls",
            "_model_module_version": "1.5.0",
            "_view_count": null,
            "_view_module_version": "1.5.0",
            "box_style": "",
            "layout": "IPY_MODEL_0b01e72a0eb04111bc97d9346bdf76b8",
            "_model_module": "@jupyter-widgets/controls",
            "children": [
              "IPY_MODEL_96b54118ccb54b9d868448e4945da66e",
              "IPY_MODEL_ecd681547dc44a95b44ff63218388cd7"
            ]
          }
        },
        "0b01e72a0eb04111bc97d9346bdf76b8": {
          "model_module": "@jupyter-widgets/base",
          "model_name": "LayoutModel",
          "state": {
            "_view_name": "LayoutView",
            "grid_template_rows": null,
            "right": null,
            "justify_content": null,
            "_view_module": "@jupyter-widgets/base",
            "overflow": null,
            "_model_module_version": "1.2.0",
            "_view_count": null,
            "flex_flow": null,
            "width": null,
            "min_width": null,
            "border": null,
            "align_items": null,
            "bottom": null,
            "_model_module": "@jupyter-widgets/base",
            "top": null,
            "grid_column": null,
            "overflow_y": null,
            "overflow_x": null,
            "grid_auto_flow": null,
            "grid_area": null,
            "grid_template_columns": null,
            "flex": null,
            "_model_name": "LayoutModel",
            "justify_items": null,
            "grid_row": null,
            "max_height": null,
            "align_content": null,
            "visibility": null,
            "align_self": null,
            "height": null,
            "min_height": null,
            "padding": null,
            "grid_auto_rows": null,
            "grid_gap": null,
            "max_width": null,
            "order": null,
            "_view_module_version": "1.2.0",
            "grid_template_areas": null,
            "object_position": null,
            "object_fit": null,
            "grid_auto_columns": null,
            "margin": null,
            "display": null,
            "left": null
          }
        },
        "96b54118ccb54b9d868448e4945da66e": {
          "model_module": "@jupyter-widgets/controls",
          "model_name": "FloatProgressModel",
          "state": {
            "_view_name": "ProgressView",
            "style": "IPY_MODEL_e1cb6c7ad04040c1aed55519526849a9",
            "_dom_classes": [],
            "description": "Downloading: 100%",
            "_model_name": "FloatProgressModel",
            "bar_style": "success",
            "max": 443,
            "_view_module": "@jupyter-widgets/controls",
            "_model_module_version": "1.5.0",
            "value": 443,
            "_view_count": null,
            "_view_module_version": "1.5.0",
            "orientation": "horizontal",
            "min": 0,
            "description_tooltip": null,
            "_model_module": "@jupyter-widgets/controls",
            "layout": "IPY_MODEL_b1e075c4e09146778c52d18ff1a9afcd"
          }
        },
        "ecd681547dc44a95b44ff63218388cd7": {
          "model_module": "@jupyter-widgets/controls",
          "model_name": "HTMLModel",
          "state": {
            "_view_name": "HTMLView",
            "style": "IPY_MODEL_5c6580ddd3ed4f4faff641a36e206620",
            "_dom_classes": [],
            "description": "",
            "_model_name": "HTMLModel",
            "placeholder": "​",
            "_view_module": "@jupyter-widgets/controls",
            "_model_module_version": "1.5.0",
            "value": " 443/443 [00:44&lt;00:00, 9.85B/s]",
            "_view_count": null,
            "_view_module_version": "1.5.0",
            "description_tooltip": null,
            "_model_module": "@jupyter-widgets/controls",
            "layout": "IPY_MODEL_7adb5a5e6b5f476e876b9047a1eb32b9"
          }
        },
        "e1cb6c7ad04040c1aed55519526849a9": {
          "model_module": "@jupyter-widgets/controls",
          "model_name": "ProgressStyleModel",
          "state": {
            "_view_name": "StyleView",
            "_model_name": "ProgressStyleModel",
            "description_width": "initial",
            "_view_module": "@jupyter-widgets/base",
            "_model_module_version": "1.5.0",
            "_view_count": null,
            "_view_module_version": "1.2.0",
            "bar_color": null,
            "_model_module": "@jupyter-widgets/controls"
          }
        },
        "b1e075c4e09146778c52d18ff1a9afcd": {
          "model_module": "@jupyter-widgets/base",
          "model_name": "LayoutModel",
          "state": {
            "_view_name": "LayoutView",
            "grid_template_rows": null,
            "right": null,
            "justify_content": null,
            "_view_module": "@jupyter-widgets/base",
            "overflow": null,
            "_model_module_version": "1.2.0",
            "_view_count": null,
            "flex_flow": null,
            "width": null,
            "min_width": null,
            "border": null,
            "align_items": null,
            "bottom": null,
            "_model_module": "@jupyter-widgets/base",
            "top": null,
            "grid_column": null,
            "overflow_y": null,
            "overflow_x": null,
            "grid_auto_flow": null,
            "grid_area": null,
            "grid_template_columns": null,
            "flex": null,
            "_model_name": "LayoutModel",
            "justify_items": null,
            "grid_row": null,
            "max_height": null,
            "align_content": null,
            "visibility": null,
            "align_self": null,
            "height": null,
            "min_height": null,
            "padding": null,
            "grid_auto_rows": null,
            "grid_gap": null,
            "max_width": null,
            "order": null,
            "_view_module_version": "1.2.0",
            "grid_template_areas": null,
            "object_position": null,
            "object_fit": null,
            "grid_auto_columns": null,
            "margin": null,
            "display": null,
            "left": null
          }
        },
        "5c6580ddd3ed4f4faff641a36e206620": {
          "model_module": "@jupyter-widgets/controls",
          "model_name": "DescriptionStyleModel",
          "state": {
            "_view_name": "StyleView",
            "_model_name": "DescriptionStyleModel",
            "description_width": "",
            "_view_module": "@jupyter-widgets/base",
            "_model_module_version": "1.5.0",
            "_view_count": null,
            "_view_module_version": "1.2.0",
            "_model_module": "@jupyter-widgets/controls"
          }
        },
        "7adb5a5e6b5f476e876b9047a1eb32b9": {
          "model_module": "@jupyter-widgets/base",
          "model_name": "LayoutModel",
          "state": {
            "_view_name": "LayoutView",
            "grid_template_rows": null,
            "right": null,
            "justify_content": null,
            "_view_module": "@jupyter-widgets/base",
            "overflow": null,
            "_model_module_version": "1.2.0",
            "_view_count": null,
            "flex_flow": null,
            "width": null,
            "min_width": null,
            "border": null,
            "align_items": null,
            "bottom": null,
            "_model_module": "@jupyter-widgets/base",
            "top": null,
            "grid_column": null,
            "overflow_y": null,
            "overflow_x": null,
            "grid_auto_flow": null,
            "grid_area": null,
            "grid_template_columns": null,
            "flex": null,
            "_model_name": "LayoutModel",
            "justify_items": null,
            "grid_row": null,
            "max_height": null,
            "align_content": null,
            "visibility": null,
            "align_self": null,
            "height": null,
            "min_height": null,
            "padding": null,
            "grid_auto_rows": null,
            "grid_gap": null,
            "max_width": null,
            "order": null,
            "_view_module_version": "1.2.0",
            "grid_template_areas": null,
            "object_position": null,
            "object_fit": null,
            "grid_auto_columns": null,
            "margin": null,
            "display": null,
            "left": null
          }
        },
        "e261b9d09fb84ad9829acf4057205f75": {
          "model_module": "@jupyter-widgets/controls",
          "model_name": "HBoxModel",
          "state": {
            "_view_name": "HBoxView",
            "_dom_classes": [],
            "_model_name": "HBoxModel",
            "_view_module": "@jupyter-widgets/controls",
            "_model_module_version": "1.5.0",
            "_view_count": null,
            "_view_module_version": "1.5.0",
            "box_style": "",
            "layout": "IPY_MODEL_70bb329eb1104f34b0b54fa78d6832f6",
            "_model_module": "@jupyter-widgets/controls",
            "children": [
              "IPY_MODEL_1a19c3aa352f49f5bd499ecb7336e5df",
              "IPY_MODEL_933b4c49a67e4b7c90521e654bda8d8c"
            ]
          }
        },
        "70bb329eb1104f34b0b54fa78d6832f6": {
          "model_module": "@jupyter-widgets/base",
          "model_name": "LayoutModel",
          "state": {
            "_view_name": "LayoutView",
            "grid_template_rows": null,
            "right": null,
            "justify_content": null,
            "_view_module": "@jupyter-widgets/base",
            "overflow": null,
            "_model_module_version": "1.2.0",
            "_view_count": null,
            "flex_flow": null,
            "width": null,
            "min_width": null,
            "border": null,
            "align_items": null,
            "bottom": null,
            "_model_module": "@jupyter-widgets/base",
            "top": null,
            "grid_column": null,
            "overflow_y": null,
            "overflow_x": null,
            "grid_auto_flow": null,
            "grid_area": null,
            "grid_template_columns": null,
            "flex": null,
            "_model_name": "LayoutModel",
            "justify_items": null,
            "grid_row": null,
            "max_height": null,
            "align_content": null,
            "visibility": null,
            "align_self": null,
            "height": null,
            "min_height": null,
            "padding": null,
            "grid_auto_rows": null,
            "grid_gap": null,
            "max_width": null,
            "order": null,
            "_view_module_version": "1.2.0",
            "grid_template_areas": null,
            "object_position": null,
            "object_fit": null,
            "grid_auto_columns": null,
            "margin": null,
            "display": null,
            "left": null
          }
        },
        "1a19c3aa352f49f5bd499ecb7336e5df": {
          "model_module": "@jupyter-widgets/controls",
          "model_name": "FloatProgressModel",
          "state": {
            "_view_name": "ProgressView",
            "style": "IPY_MODEL_1c9704e199b0438b89cb2e05ba6fce31",
            "_dom_classes": [],
            "description": "Downloading: 100%",
            "_model_name": "FloatProgressModel",
            "bar_style": "success",
            "max": 1340675298,
            "_view_module": "@jupyter-widgets/controls",
            "_model_module_version": "1.5.0",
            "value": 1340675298,
            "_view_count": null,
            "_view_module_version": "1.5.0",
            "orientation": "horizontal",
            "min": 0,
            "description_tooltip": null,
            "_model_module": "@jupyter-widgets/controls",
            "layout": "IPY_MODEL_c7e2d25c45e84491ae34aa57209ccee6"
          }
        },
        "933b4c49a67e4b7c90521e654bda8d8c": {
          "model_module": "@jupyter-widgets/controls",
          "model_name": "HTMLModel",
          "state": {
            "_view_name": "HTMLView",
            "style": "IPY_MODEL_c9b6cbff0df0461bbb7efefbd1720942",
            "_dom_classes": [],
            "description": "",
            "_model_name": "HTMLModel",
            "placeholder": "​",
            "_view_module": "@jupyter-widgets/controls",
            "_model_module_version": "1.5.0",
            "value": " 1.34G/1.34G [00:43&lt;00:00, 30.5MB/s]",
            "_view_count": null,
            "_view_module_version": "1.5.0",
            "description_tooltip": null,
            "_model_module": "@jupyter-widgets/controls",
            "layout": "IPY_MODEL_178b46d00262482f9b4babcc3cce277b"
          }
        },
        "1c9704e199b0438b89cb2e05ba6fce31": {
          "model_module": "@jupyter-widgets/controls",
          "model_name": "ProgressStyleModel",
          "state": {
            "_view_name": "StyleView",
            "_model_name": "ProgressStyleModel",
            "description_width": "initial",
            "_view_module": "@jupyter-widgets/base",
            "_model_module_version": "1.5.0",
            "_view_count": null,
            "_view_module_version": "1.2.0",
            "bar_color": null,
            "_model_module": "@jupyter-widgets/controls"
          }
        },
        "c7e2d25c45e84491ae34aa57209ccee6": {
          "model_module": "@jupyter-widgets/base",
          "model_name": "LayoutModel",
          "state": {
            "_view_name": "LayoutView",
            "grid_template_rows": null,
            "right": null,
            "justify_content": null,
            "_view_module": "@jupyter-widgets/base",
            "overflow": null,
            "_model_module_version": "1.2.0",
            "_view_count": null,
            "flex_flow": null,
            "width": null,
            "min_width": null,
            "border": null,
            "align_items": null,
            "bottom": null,
            "_model_module": "@jupyter-widgets/base",
            "top": null,
            "grid_column": null,
            "overflow_y": null,
            "overflow_x": null,
            "grid_auto_flow": null,
            "grid_area": null,
            "grid_template_columns": null,
            "flex": null,
            "_model_name": "LayoutModel",
            "justify_items": null,
            "grid_row": null,
            "max_height": null,
            "align_content": null,
            "visibility": null,
            "align_self": null,
            "height": null,
            "min_height": null,
            "padding": null,
            "grid_auto_rows": null,
            "grid_gap": null,
            "max_width": null,
            "order": null,
            "_view_module_version": "1.2.0",
            "grid_template_areas": null,
            "object_position": null,
            "object_fit": null,
            "grid_auto_columns": null,
            "margin": null,
            "display": null,
            "left": null
          }
        },
        "c9b6cbff0df0461bbb7efefbd1720942": {
          "model_module": "@jupyter-widgets/controls",
          "model_name": "DescriptionStyleModel",
          "state": {
            "_view_name": "StyleView",
            "_model_name": "DescriptionStyleModel",
            "description_width": "",
            "_view_module": "@jupyter-widgets/base",
            "_model_module_version": "1.5.0",
            "_view_count": null,
            "_view_module_version": "1.2.0",
            "_model_module": "@jupyter-widgets/controls"
          }
        },
        "178b46d00262482f9b4babcc3cce277b": {
          "model_module": "@jupyter-widgets/base",
          "model_name": "LayoutModel",
          "state": {
            "_view_name": "LayoutView",
            "grid_template_rows": null,
            "right": null,
            "justify_content": null,
            "_view_module": "@jupyter-widgets/base",
            "overflow": null,
            "_model_module_version": "1.2.0",
            "_view_count": null,
            "flex_flow": null,
            "width": null,
            "min_width": null,
            "border": null,
            "align_items": null,
            "bottom": null,
            "_model_module": "@jupyter-widgets/base",
            "top": null,
            "grid_column": null,
            "overflow_y": null,
            "overflow_x": null,
            "grid_auto_flow": null,
            "grid_area": null,
            "grid_template_columns": null,
            "flex": null,
            "_model_name": "LayoutModel",
            "justify_items": null,
            "grid_row": null,
            "max_height": null,
            "align_content": null,
            "visibility": null,
            "align_self": null,
            "height": null,
            "min_height": null,
            "padding": null,
            "grid_auto_rows": null,
            "grid_gap": null,
            "max_width": null,
            "order": null,
            "_view_module_version": "1.2.0",
            "grid_template_areas": null,
            "object_position": null,
            "object_fit": null,
            "grid_auto_columns": null,
            "margin": null,
            "display": null,
            "left": null
          }
        },
        "9bedf175ede3485b940358f0ac6b0528": {
          "model_module": "@jupyter-widgets/controls",
          "model_name": "HBoxModel",
          "state": {
            "_view_name": "HBoxView",
            "_dom_classes": [],
            "_model_name": "HBoxModel",
            "_view_module": "@jupyter-widgets/controls",
            "_model_module_version": "1.5.0",
            "_view_count": null,
            "_view_module_version": "1.5.0",
            "box_style": "",
            "layout": "IPY_MODEL_60a151d5165e460ba33337a9e569a5ef",
            "_model_module": "@jupyter-widgets/controls",
            "children": [
              "IPY_MODEL_8dcf8c4ad72d4b058e4c43c10535ef16",
              "IPY_MODEL_8dc1934a541f425aa21a14675cdcef96"
            ]
          }
        },
        "60a151d5165e460ba33337a9e569a5ef": {
          "model_module": "@jupyter-widgets/base",
          "model_name": "LayoutModel",
          "state": {
            "_view_name": "LayoutView",
            "grid_template_rows": null,
            "right": null,
            "justify_content": null,
            "_view_module": "@jupyter-widgets/base",
            "overflow": null,
            "_model_module_version": "1.2.0",
            "_view_count": null,
            "flex_flow": null,
            "width": null,
            "min_width": null,
            "border": null,
            "align_items": null,
            "bottom": null,
            "_model_module": "@jupyter-widgets/base",
            "top": null,
            "grid_column": null,
            "overflow_y": null,
            "overflow_x": null,
            "grid_auto_flow": null,
            "grid_area": null,
            "grid_template_columns": null,
            "flex": null,
            "_model_name": "LayoutModel",
            "justify_items": null,
            "grid_row": null,
            "max_height": null,
            "align_content": null,
            "visibility": null,
            "align_self": null,
            "height": null,
            "min_height": null,
            "padding": null,
            "grid_auto_rows": null,
            "grid_gap": null,
            "max_width": null,
            "order": null,
            "_view_module_version": "1.2.0",
            "grid_template_areas": null,
            "object_position": null,
            "object_fit": null,
            "grid_auto_columns": null,
            "margin": null,
            "display": null,
            "left": null
          }
        },
        "8dcf8c4ad72d4b058e4c43c10535ef16": {
          "model_module": "@jupyter-widgets/controls",
          "model_name": "FloatProgressModel",
          "state": {
            "_view_name": "ProgressView",
            "style": "IPY_MODEL_d0034a981b3f4c54991f21147237b49e",
            "_dom_classes": [],
            "description": "Downloading: 100%",
            "_model_name": "FloatProgressModel",
            "bar_style": "success",
            "max": 231508,
            "_view_module": "@jupyter-widgets/controls",
            "_model_module_version": "1.5.0",
            "value": 231508,
            "_view_count": null,
            "_view_module_version": "1.5.0",
            "orientation": "horizontal",
            "min": 0,
            "description_tooltip": null,
            "_model_module": "@jupyter-widgets/controls",
            "layout": "IPY_MODEL_4a2c7f9e53084cafa1bf16c924434bca"
          }
        },
        "8dc1934a541f425aa21a14675cdcef96": {
          "model_module": "@jupyter-widgets/controls",
          "model_name": "HTMLModel",
          "state": {
            "_view_name": "HTMLView",
            "style": "IPY_MODEL_83cce54865b84714ad9823cf7f124ca2",
            "_dom_classes": [],
            "description": "",
            "_model_name": "HTMLModel",
            "placeholder": "​",
            "_view_module": "@jupyter-widgets/controls",
            "_model_module_version": "1.5.0",
            "value": " 232k/232k [00:00&lt;00:00, 896kB/s]",
            "_view_count": null,
            "_view_module_version": "1.5.0",
            "description_tooltip": null,
            "_model_module": "@jupyter-widgets/controls",
            "layout": "IPY_MODEL_5540783cfe54469c9d28b82340fc7dd7"
          }
        },
        "d0034a981b3f4c54991f21147237b49e": {
          "model_module": "@jupyter-widgets/controls",
          "model_name": "ProgressStyleModel",
          "state": {
            "_view_name": "StyleView",
            "_model_name": "ProgressStyleModel",
            "description_width": "initial",
            "_view_module": "@jupyter-widgets/base",
            "_model_module_version": "1.5.0",
            "_view_count": null,
            "_view_module_version": "1.2.0",
            "bar_color": null,
            "_model_module": "@jupyter-widgets/controls"
          }
        },
        "4a2c7f9e53084cafa1bf16c924434bca": {
          "model_module": "@jupyter-widgets/base",
          "model_name": "LayoutModel",
          "state": {
            "_view_name": "LayoutView",
            "grid_template_rows": null,
            "right": null,
            "justify_content": null,
            "_view_module": "@jupyter-widgets/base",
            "overflow": null,
            "_model_module_version": "1.2.0",
            "_view_count": null,
            "flex_flow": null,
            "width": null,
            "min_width": null,
            "border": null,
            "align_items": null,
            "bottom": null,
            "_model_module": "@jupyter-widgets/base",
            "top": null,
            "grid_column": null,
            "overflow_y": null,
            "overflow_x": null,
            "grid_auto_flow": null,
            "grid_area": null,
            "grid_template_columns": null,
            "flex": null,
            "_model_name": "LayoutModel",
            "justify_items": null,
            "grid_row": null,
            "max_height": null,
            "align_content": null,
            "visibility": null,
            "align_self": null,
            "height": null,
            "min_height": null,
            "padding": null,
            "grid_auto_rows": null,
            "grid_gap": null,
            "max_width": null,
            "order": null,
            "_view_module_version": "1.2.0",
            "grid_template_areas": null,
            "object_position": null,
            "object_fit": null,
            "grid_auto_columns": null,
            "margin": null,
            "display": null,
            "left": null
          }
        },
        "83cce54865b84714ad9823cf7f124ca2": {
          "model_module": "@jupyter-widgets/controls",
          "model_name": "DescriptionStyleModel",
          "state": {
            "_view_name": "StyleView",
            "_model_name": "DescriptionStyleModel",
            "description_width": "",
            "_view_module": "@jupyter-widgets/base",
            "_model_module_version": "1.5.0",
            "_view_count": null,
            "_view_module_version": "1.2.0",
            "_model_module": "@jupyter-widgets/controls"
          }
        },
        "5540783cfe54469c9d28b82340fc7dd7": {
          "model_module": "@jupyter-widgets/base",
          "model_name": "LayoutModel",
          "state": {
            "_view_name": "LayoutView",
            "grid_template_rows": null,
            "right": null,
            "justify_content": null,
            "_view_module": "@jupyter-widgets/base",
            "overflow": null,
            "_model_module_version": "1.2.0",
            "_view_count": null,
            "flex_flow": null,
            "width": null,
            "min_width": null,
            "border": null,
            "align_items": null,
            "bottom": null,
            "_model_module": "@jupyter-widgets/base",
            "top": null,
            "grid_column": null,
            "overflow_y": null,
            "overflow_x": null,
            "grid_auto_flow": null,
            "grid_area": null,
            "grid_template_columns": null,
            "flex": null,
            "_model_name": "LayoutModel",
            "justify_items": null,
            "grid_row": null,
            "max_height": null,
            "align_content": null,
            "visibility": null,
            "align_self": null,
            "height": null,
            "min_height": null,
            "padding": null,
            "grid_auto_rows": null,
            "grid_gap": null,
            "max_width": null,
            "order": null,
            "_view_module_version": "1.2.0",
            "grid_template_areas": null,
            "object_position": null,
            "object_fit": null,
            "grid_auto_columns": null,
            "margin": null,
            "display": null,
            "left": null
          }
        }
      }
    },
    "accelerator": "GPU"
  },
  "cells": [
    {
      "cell_type": "markdown",
      "metadata": {
        "id": "_MhF7c1WtJOW"
      },
      "source": [
        "# Hypothesis\n",
        "\n",
        "Define Question & Answer (Q&A) system for a document, [recommended document](http://aepd.es/sites/default/files/2019-12/ai-definition.pdf).\n",
        "\n",
        "In order to achieve this objective, it will be used the pretrained  [model large-Bert from Hugginface](https://huggingface.co/transformers/pretrained_models.html) + Spacy to handle the document (recall NLP only accepts 512 tokens) and GTTs to make our model to speak or give the answer.\n",
        "\n",
        "It is important to know BERT limiations. It can only handle sentences with max. 512 tokens due to Attention memory constraints.\n",
        "\n",
        "Having this on mind, as we are dealing with an entire document, it is necessary to split the text in chunks with 512 tokens as maximum.\n",
        "\n",
        "Later, thanks to Spacy module: it will be applied a regression (between the question and the list of chunks) the three sentence chunks with most probabilities to contain the answer.\n",
        "\n",
        "Having the three sentences with most probability to contain the anwer, BERT only will handle this three sentences making the code time-eficcient and adapted for any long text. "
      ]
    },
    {
      "cell_type": "markdown",
      "metadata": {
        "id": "vyXelKz9R9WQ"
      },
      "source": [
        "## LOAD PACKAGES (transformers & Spacy) and model (Large BERTpretrained on SQUAD V.1)\n",
        "\n",
        "It will be also used Apeche tika as pre-pocess in order to make our system to work with any file format."
      ]
    },
    {
      "cell_type": "markdown",
      "metadata": {
        "id": "1JhHiq3XOJjY"
      },
      "source": [
        "### Huggingface **Transformers**"
      ]
    },
    {
      "cell_type": "code",
      "metadata": {
        "id": "V9GuCpMfR7Qo",
        "colab": {
          "base_uri": "https://localhost:8080/"
        },
        "outputId": "be57e2b0-1720-4292-88be-0b2a0faf3953"
      },
      "source": [
        "!pip install transformers==3"
      ],
      "execution_count": 1,
      "outputs": [
        {
          "output_type": "stream",
          "text": [
            "Collecting transformers==3\n",
            "\u001b[?25l  Downloading https://files.pythonhosted.org/packages/9c/35/1c3f6e62d81f5f0daff1384e6d5e6c5758682a8357ebc765ece2b9def62b/transformers-3.0.0-py3-none-any.whl (754kB)\n",
            "\u001b[K     |████████████████████████████████| 757kB 7.7MB/s \n",
            "\u001b[?25hRequirement already satisfied: filelock in /usr/local/lib/python3.7/dist-packages (from transformers==3) (3.0.12)\n",
            "Requirement already satisfied: regex!=2019.12.17 in /usr/local/lib/python3.7/dist-packages (from transformers==3) (2019.12.20)\n",
            "Collecting sacremoses\n",
            "\u001b[?25l  Downloading https://files.pythonhosted.org/packages/08/cd/342e584ee544d044fb573ae697404ce22ede086c9e87ce5960772084cad0/sacremoses-0.0.44.tar.gz (862kB)\n",
            "\u001b[K     |████████████████████████████████| 870kB 36.4MB/s \n",
            "\u001b[?25hCollecting sentencepiece\n",
            "\u001b[?25l  Downloading https://files.pythonhosted.org/packages/f5/99/e0808cb947ba10f575839c43e8fafc9cc44e4a7a2c8f79c60db48220a577/sentencepiece-0.1.95-cp37-cp37m-manylinux2014_x86_64.whl (1.2MB)\n",
            "\u001b[K     |████████████████████████████████| 1.2MB 54.0MB/s \n",
            "\u001b[?25hRequirement already satisfied: numpy in /usr/local/lib/python3.7/dist-packages (from transformers==3) (1.19.5)\n",
            "Requirement already satisfied: tqdm>=4.27 in /usr/local/lib/python3.7/dist-packages (from transformers==3) (4.41.1)\n",
            "Requirement already satisfied: packaging in /usr/local/lib/python3.7/dist-packages (from transformers==3) (20.9)\n",
            "Requirement already satisfied: requests in /usr/local/lib/python3.7/dist-packages (from transformers==3) (2.23.0)\n",
            "Collecting tokenizers==0.8.0-rc4\n",
            "\u001b[?25l  Downloading https://files.pythonhosted.org/packages/f7/82/0e82a95bd9db2b32569500cc1bb47aa7c4e0f57aa5e35cceba414096917b/tokenizers-0.8.0rc4-cp37-cp37m-manylinux1_x86_64.whl (3.0MB)\n",
            "\u001b[K     |████████████████████████████████| 3.0MB 43.2MB/s \n",
            "\u001b[?25hRequirement already satisfied: six in /usr/local/lib/python3.7/dist-packages (from sacremoses->transformers==3) (1.15.0)\n",
            "Requirement already satisfied: click in /usr/local/lib/python3.7/dist-packages (from sacremoses->transformers==3) (7.1.2)\n",
            "Requirement already satisfied: joblib in /usr/local/lib/python3.7/dist-packages (from sacremoses->transformers==3) (1.0.1)\n",
            "Requirement already satisfied: pyparsing>=2.0.2 in /usr/local/lib/python3.7/dist-packages (from packaging->transformers==3) (2.4.7)\n",
            "Requirement already satisfied: certifi>=2017.4.17 in /usr/local/lib/python3.7/dist-packages (from requests->transformers==3) (2020.12.5)\n",
            "Requirement already satisfied: idna<3,>=2.5 in /usr/local/lib/python3.7/dist-packages (from requests->transformers==3) (2.10)\n",
            "Requirement already satisfied: chardet<4,>=3.0.2 in /usr/local/lib/python3.7/dist-packages (from requests->transformers==3) (3.0.4)\n",
            "Requirement already satisfied: urllib3!=1.25.0,!=1.25.1,<1.26,>=1.21.1 in /usr/local/lib/python3.7/dist-packages (from requests->transformers==3) (1.24.3)\n",
            "Building wheels for collected packages: sacremoses\n",
            "  Building wheel for sacremoses (setup.py) ... \u001b[?25l\u001b[?25hdone\n",
            "  Created wheel for sacremoses: filename=sacremoses-0.0.44-cp37-none-any.whl size=886084 sha256=bf1206a4aaec8dce057e66aafa0ab06cb4050d3a1006e7cf7efe4bb8cd91cb89\n",
            "  Stored in directory: /root/.cache/pip/wheels/3e/fb/c0/13ab4d63d537658f448366744654323077c4d90069b6512f3c\n",
            "Successfully built sacremoses\n",
            "Installing collected packages: sacremoses, sentencepiece, tokenizers, transformers\n",
            "Successfully installed sacremoses-0.0.44 sentencepiece-0.1.95 tokenizers-0.8.0rc4 transformers-3.0.0\n"
          ],
          "name": "stdout"
        }
      ]
    },
    {
      "cell_type": "code",
      "metadata": {
        "id": "32qHsxN9Tk9D"
      },
      "source": [
        "import torch"
      ],
      "execution_count": 2,
      "outputs": []
    },
    {
      "cell_type": "markdown",
      "metadata": {
        "id": "HlFDBVRHOShs"
      },
      "source": [
        "### Huggingface **Model BERT**"
      ]
    },
    {
      "cell_type": "markdown",
      "metadata": {
        "id": "tTuwoIYKWdAm"
      },
      "source": [
        "Load the model: 24-layer, 1024-hidden, 16-heads, 340M parameters. Model fine-tuned on SQuAD"
      ]
    },
    {
      "cell_type": "code",
      "metadata": {
        "id": "pNNqvnbVWa3k",
        "colab": {
          "base_uri": "https://localhost:8080/",
          "height": 0,
          "referenced_widgets": [
            "34ad00f8996941ba99c656608ef94892",
            "0b01e72a0eb04111bc97d9346bdf76b8",
            "96b54118ccb54b9d868448e4945da66e",
            "ecd681547dc44a95b44ff63218388cd7",
            "e1cb6c7ad04040c1aed55519526849a9",
            "b1e075c4e09146778c52d18ff1a9afcd",
            "5c6580ddd3ed4f4faff641a36e206620",
            "7adb5a5e6b5f476e876b9047a1eb32b9",
            "e261b9d09fb84ad9829acf4057205f75",
            "70bb329eb1104f34b0b54fa78d6832f6",
            "1a19c3aa352f49f5bd499ecb7336e5df",
            "933b4c49a67e4b7c90521e654bda8d8c",
            "1c9704e199b0438b89cb2e05ba6fce31",
            "c7e2d25c45e84491ae34aa57209ccee6",
            "c9b6cbff0df0461bbb7efefbd1720942",
            "178b46d00262482f9b4babcc3cce277b"
          ]
        },
        "outputId": "41cc05ca-446a-4144-a5fe-73917bab2c90"
      },
      "source": [
        "from transformers import BertForQuestionAnswering\n",
        "\n",
        "model = BertForQuestionAnswering.from_pretrained('bert-large-uncased-whole-word-masking-finetuned-squad')"
      ],
      "execution_count": 3,
      "outputs": [
        {
          "output_type": "display_data",
          "data": {
            "application/vnd.jupyter.widget-view+json": {
              "model_id": "34ad00f8996941ba99c656608ef94892",
              "version_minor": 0,
              "version_major": 2
            },
            "text/plain": [
              "HBox(children=(FloatProgress(value=0.0, description='Downloading', max=443.0, style=ProgressStyle(description_…"
            ]
          },
          "metadata": {
            "tags": []
          }
        },
        {
          "output_type": "stream",
          "text": [
            "\n"
          ],
          "name": "stdout"
        },
        {
          "output_type": "display_data",
          "data": {
            "application/vnd.jupyter.widget-view+json": {
              "model_id": "e261b9d09fb84ad9829acf4057205f75",
              "version_minor": 0,
              "version_major": 2
            },
            "text/plain": [
              "HBox(children=(FloatProgress(value=0.0, description='Downloading', max=1340675298.0, style=ProgressStyle(descr…"
            ]
          },
          "metadata": {
            "tags": []
          }
        },
        {
          "output_type": "stream",
          "text": [
            "\n"
          ],
          "name": "stdout"
        }
      ]
    },
    {
      "cell_type": "markdown",
      "metadata": {
        "id": "3wtOGAK4Y6nw"
      },
      "source": [
        "Load tokenizer"
      ]
    },
    {
      "cell_type": "code",
      "metadata": {
        "id": "S-y5UM6TYwMb",
        "colab": {
          "base_uri": "https://localhost:8080/",
          "height": 0,
          "referenced_widgets": [
            "9bedf175ede3485b940358f0ac6b0528",
            "60a151d5165e460ba33337a9e569a5ef",
            "8dcf8c4ad72d4b058e4c43c10535ef16",
            "8dc1934a541f425aa21a14675cdcef96",
            "d0034a981b3f4c54991f21147237b49e",
            "4a2c7f9e53084cafa1bf16c924434bca",
            "83cce54865b84714ad9823cf7f124ca2",
            "5540783cfe54469c9d28b82340fc7dd7"
          ]
        },
        "outputId": "a199461f-fa85-4c0d-ef3f-9c7e6f641bb7"
      },
      "source": [
        "from transformers import BertTokenizer\n",
        "\n",
        "tokenizer = BertTokenizer.from_pretrained('bert-large-uncased-whole-word-masking-finetuned-squad')"
      ],
      "execution_count": 4,
      "outputs": [
        {
          "output_type": "display_data",
          "data": {
            "application/vnd.jupyter.widget-view+json": {
              "model_id": "9bedf175ede3485b940358f0ac6b0528",
              "version_minor": 0,
              "version_major": 2
            },
            "text/plain": [
              "HBox(children=(FloatProgress(value=0.0, description='Downloading', max=231508.0, style=ProgressStyle(descripti…"
            ]
          },
          "metadata": {
            "tags": []
          }
        },
        {
          "output_type": "stream",
          "text": [
            "\n"
          ],
          "name": "stdout"
        }
      ]
    },
    {
      "cell_type": "markdown",
      "metadata": {
        "id": "3QFc98Q7N8in"
      },
      "source": [
        "### SPACY"
      ]
    },
    {
      "cell_type": "code",
      "metadata": {
        "id": "Sb_DTMo39bDK",
        "colab": {
          "base_uri": "https://localhost:8080/"
        },
        "outputId": "05fbb1a2-d6ec-4acb-a248-5a3cdad317eb"
      },
      "source": [
        "!pip install -U spacy\n",
        "import spacy"
      ],
      "execution_count": 5,
      "outputs": [
        {
          "output_type": "stream",
          "text": [
            "Collecting spacy\n",
            "\u001b[?25l  Downloading https://files.pythonhosted.org/packages/3a/70/a0b8bd0cb54d8739ba4d6fb3458785c3b9b812b7fbe93b0f10beb1a53ada/spacy-3.0.5-cp37-cp37m-manylinux2014_x86_64.whl (12.8MB)\n",
            "\u001b[K     |████████████████████████████████| 12.8MB 244kB/s \n",
            "\u001b[?25hRequirement already satisfied, skipping upgrade: requests<3.0.0,>=2.13.0 in /usr/local/lib/python3.7/dist-packages (from spacy) (2.23.0)\n",
            "Requirement already satisfied, skipping upgrade: preshed<3.1.0,>=3.0.2 in /usr/local/lib/python3.7/dist-packages (from spacy) (3.0.5)\n",
            "Requirement already satisfied, skipping upgrade: setuptools in /usr/local/lib/python3.7/dist-packages (from spacy) (54.2.0)\n",
            "Collecting thinc<8.1.0,>=8.0.2\n",
            "\u001b[?25l  Downloading https://files.pythonhosted.org/packages/e3/08/20e707519bcded1a0caa6fd024b767ac79e4e5d0fb92266bb7dcf735e338/thinc-8.0.2-cp37-cp37m-manylinux2014_x86_64.whl (1.1MB)\n",
            "\u001b[K     |████████████████████████████████| 1.1MB 49.8MB/s \n",
            "\u001b[?25hCollecting typer<0.4.0,>=0.3.0\n",
            "  Downloading https://files.pythonhosted.org/packages/90/34/d138832f6945432c638f32137e6c79a3b682f06a63c488dcfaca6b166c64/typer-0.3.2-py3-none-any.whl\n",
            "Requirement already satisfied, skipping upgrade: importlib-metadata>=0.20; python_version < \"3.8\" in /usr/local/lib/python3.7/dist-packages (from spacy) (3.8.1)\n",
            "Requirement already satisfied, skipping upgrade: jinja2 in /usr/local/lib/python3.7/dist-packages (from spacy) (2.11.3)\n",
            "Requirement already satisfied, skipping upgrade: cymem<2.1.0,>=2.0.2 in /usr/local/lib/python3.7/dist-packages (from spacy) (2.0.5)\n",
            "Requirement already satisfied, skipping upgrade: tqdm<5.0.0,>=4.38.0 in /usr/local/lib/python3.7/dist-packages (from spacy) (4.41.1)\n",
            "Collecting pathy>=0.3.5\n",
            "  Downloading https://files.pythonhosted.org/packages/a2/53/97dc0197cca9357369b3b71bf300896cf2d3604fa60ffaaf5cbc277de7de/pathy-0.4.0-py3-none-any.whl\n",
            "Collecting srsly<3.0.0,>=2.4.0\n",
            "\u001b[?25l  Downloading https://files.pythonhosted.org/packages/19/54/76982427ceb495dd19ff982c966708c624b85e03c45bf1912feaf60c7b2d/srsly-2.4.0-cp37-cp37m-manylinux2014_x86_64.whl (456kB)\n",
            "\u001b[K     |████████████████████████████████| 460kB 47.6MB/s \n",
            "\u001b[?25hRequirement already satisfied, skipping upgrade: typing-extensions<4.0.0.0,>=3.7.4; python_version < \"3.8\" in /usr/local/lib/python3.7/dist-packages (from spacy) (3.7.4.3)\n",
            "Collecting pydantic<1.8.0,>=1.7.1\n",
            "\u001b[?25l  Downloading https://files.pythonhosted.org/packages/b3/0a/52ae1c659fc08f13dd7c0ae07b88e4f807ad83fb9954a59b0b0a3d1a8ab6/pydantic-1.7.3-cp37-cp37m-manylinux2014_x86_64.whl (9.1MB)\n",
            "\u001b[K     |████████████████████████████████| 9.1MB 55.0MB/s \n",
            "\u001b[?25hRequirement already satisfied, skipping upgrade: packaging>=20.0 in /usr/local/lib/python3.7/dist-packages (from spacy) (20.9)\n",
            "Requirement already satisfied, skipping upgrade: wasabi<1.1.0,>=0.8.1 in /usr/local/lib/python3.7/dist-packages (from spacy) (0.8.2)\n",
            "Requirement already satisfied, skipping upgrade: blis<0.8.0,>=0.4.0 in /usr/local/lib/python3.7/dist-packages (from spacy) (0.4.1)\n",
            "Collecting catalogue<2.1.0,>=2.0.1\n",
            "  Downloading https://files.pythonhosted.org/packages/48/5c/493a2f3bb0eac17b1d48129ecfd251f0520b6c89493e9fd0522f534a9e4a/catalogue-2.0.1-py3-none-any.whl\n",
            "Collecting spacy-legacy<3.1.0,>=3.0.0\n",
            "  Downloading https://files.pythonhosted.org/packages/78/d8/e25bc7f99877de34def57d36769f0cce4e895b374cdc766718efc724f9ac/spacy_legacy-3.0.2-py2.py3-none-any.whl\n",
            "Requirement already satisfied, skipping upgrade: murmurhash<1.1.0,>=0.28.0 in /usr/local/lib/python3.7/dist-packages (from spacy) (1.0.5)\n",
            "Requirement already satisfied, skipping upgrade: numpy>=1.15.0 in /usr/local/lib/python3.7/dist-packages (from spacy) (1.19.5)\n",
            "Requirement already satisfied, skipping upgrade: chardet<4,>=3.0.2 in /usr/local/lib/python3.7/dist-packages (from requests<3.0.0,>=2.13.0->spacy) (3.0.4)\n",
            "Requirement already satisfied, skipping upgrade: certifi>=2017.4.17 in /usr/local/lib/python3.7/dist-packages (from requests<3.0.0,>=2.13.0->spacy) (2020.12.5)\n",
            "Requirement already satisfied, skipping upgrade: idna<3,>=2.5 in /usr/local/lib/python3.7/dist-packages (from requests<3.0.0,>=2.13.0->spacy) (2.10)\n",
            "Requirement already satisfied, skipping upgrade: urllib3!=1.25.0,!=1.25.1,<1.26,>=1.21.1 in /usr/local/lib/python3.7/dist-packages (from requests<3.0.0,>=2.13.0->spacy) (1.24.3)\n",
            "Requirement already satisfied, skipping upgrade: click<7.2.0,>=7.1.1 in /usr/local/lib/python3.7/dist-packages (from typer<0.4.0,>=0.3.0->spacy) (7.1.2)\n",
            "Requirement already satisfied, skipping upgrade: zipp>=0.5 in /usr/local/lib/python3.7/dist-packages (from importlib-metadata>=0.20; python_version < \"3.8\"->spacy) (3.4.1)\n",
            "Requirement already satisfied, skipping upgrade: MarkupSafe>=0.23 in /usr/local/lib/python3.7/dist-packages (from jinja2->spacy) (1.1.1)\n",
            "Collecting smart-open<4.0.0,>=2.2.0\n",
            "\u001b[?25l  Downloading https://files.pythonhosted.org/packages/11/9a/ba2d5f67f25e8d5bbf2fcec7a99b1e38428e83cb715f64dd179ca43a11bb/smart_open-3.0.0.tar.gz (113kB)\n",
            "\u001b[K     |████████████████████████████████| 122kB 58.5MB/s \n",
            "\u001b[?25hRequirement already satisfied, skipping upgrade: pyparsing>=2.0.2 in /usr/local/lib/python3.7/dist-packages (from packaging>=20.0->spacy) (2.4.7)\n",
            "Building wheels for collected packages: smart-open\n",
            "  Building wheel for smart-open (setup.py) ... \u001b[?25l\u001b[?25hdone\n",
            "  Created wheel for smart-open: filename=smart_open-3.0.0-cp37-none-any.whl size=107098 sha256=99228ad71ff4e1970b365c246f4e42ab59bc09fdf7fe7d543df32be01bd32dcd\n",
            "  Stored in directory: /root/.cache/pip/wheels/18/88/7c/f06dabd5e9cabe02d2269167bcacbbf9b47d0c0ff7d6ebcb78\n",
            "Successfully built smart-open\n",
            "Installing collected packages: pydantic, catalogue, srsly, thinc, typer, smart-open, pathy, spacy-legacy, spacy\n",
            "  Found existing installation: catalogue 1.0.0\n",
            "    Uninstalling catalogue-1.0.0:\n",
            "      Successfully uninstalled catalogue-1.0.0\n",
            "  Found existing installation: srsly 1.0.5\n",
            "    Uninstalling srsly-1.0.5:\n",
            "      Successfully uninstalled srsly-1.0.5\n",
            "  Found existing installation: thinc 7.4.0\n",
            "    Uninstalling thinc-7.4.0:\n",
            "      Successfully uninstalled thinc-7.4.0\n",
            "  Found existing installation: smart-open 4.2.0\n",
            "    Uninstalling smart-open-4.2.0:\n",
            "      Successfully uninstalled smart-open-4.2.0\n",
            "  Found existing installation: spacy 2.2.4\n",
            "    Uninstalling spacy-2.2.4:\n",
            "      Successfully uninstalled spacy-2.2.4\n",
            "Successfully installed catalogue-2.0.1 pathy-0.4.0 pydantic-1.7.3 smart-open-3.0.0 spacy-3.0.5 spacy-legacy-3.0.2 srsly-2.4.0 thinc-8.0.2 typer-0.3.2\n"
          ],
          "name": "stdout"
        }
      ]
    },
    {
      "cell_type": "code",
      "metadata": {
        "id": "Ggxm7Q6y-KgO",
        "colab": {
          "base_uri": "https://localhost:8080/"
        },
        "outputId": "72aba233-f054-4850-b48f-37df04e90576"
      },
      "source": [
        "import spacy.cli\n",
        "spacy.cli.download(\"en_core_web_lg\")\n",
        "import en_core_web_lg\n",
        "nlp = en_core_web_lg.load()"
      ],
      "execution_count": 6,
      "outputs": [
        {
          "output_type": "stream",
          "text": [
            "\u001b[38;5;2m✔ Download and installation successful\u001b[0m\n",
            "You can now load the package via spacy.load('en_core_web_lg')\n"
          ],
          "name": "stdout"
        }
      ]
    },
    {
      "cell_type": "markdown",
      "metadata": {
        "id": "i0JG3eS7pju2"
      },
      "source": [
        "### Apache Tika (source document pre-process)"
      ]
    },
    {
      "cell_type": "code",
      "metadata": {
        "colab": {
          "base_uri": "https://localhost:8080/"
        },
        "id": "8su_QSFJT1cn",
        "outputId": "e19721e7-0454-4229-e503-17c7664f4b8c"
      },
      "source": [
        "pip install tika"
      ],
      "execution_count": 7,
      "outputs": [
        {
          "output_type": "stream",
          "text": [
            "Collecting tika\n",
            "  Downloading https://files.pythonhosted.org/packages/96/07/244fbb9c74c0de8a3745cc9f3f496077a29f6418c7cbd90d68fd799574cb/tika-1.24.tar.gz\n",
            "Requirement already satisfied: setuptools in /usr/local/lib/python3.7/dist-packages (from tika) (54.2.0)\n",
            "Requirement already satisfied: requests in /usr/local/lib/python3.7/dist-packages (from tika) (2.23.0)\n",
            "Requirement already satisfied: chardet<4,>=3.0.2 in /usr/local/lib/python3.7/dist-packages (from requests->tika) (3.0.4)\n",
            "Requirement already satisfied: urllib3!=1.25.0,!=1.25.1,<1.26,>=1.21.1 in /usr/local/lib/python3.7/dist-packages (from requests->tika) (1.24.3)\n",
            "Requirement already satisfied: idna<3,>=2.5 in /usr/local/lib/python3.7/dist-packages (from requests->tika) (2.10)\n",
            "Requirement already satisfied: certifi>=2017.4.17 in /usr/local/lib/python3.7/dist-packages (from requests->tika) (2020.12.5)\n",
            "Building wheels for collected packages: tika\n",
            "  Building wheel for tika (setup.py) ... \u001b[?25l\u001b[?25hdone\n",
            "  Created wheel for tika: filename=tika-1.24-cp37-none-any.whl size=32885 sha256=03a463ffe93afc026ae1005b0e64e883a9f935e23f4234557edc4a154b3d9387\n",
            "  Stored in directory: /root/.cache/pip/wheels/73/9c/f5/0b1b738442fc2a2862bef95b908b374f8e80215550fb2a8975\n",
            "Successfully built tika\n",
            "Installing collected packages: tika\n",
            "Successfully installed tika-1.24\n"
          ],
          "name": "stdout"
        }
      ]
    },
    {
      "cell_type": "markdown",
      "metadata": {
        "id": "2z_QGxSXNYBu"
      },
      "source": [
        "## Define function Q&A"
      ]
    },
    {
      "cell_type": "code",
      "metadata": {
        "id": "rH8NbBlsfxZ_"
      },
      "source": [
        "def answer_question(question, answer_text):\n",
        "    '''\n",
        "    Takes a `question` string and an `answer_text` string (which contains the\n",
        "    answer), and identifies the words within the `answer_text` that are the\n",
        "    answer. Prints them out.\n",
        "    '''\n",
        "    # Tokenize: Apply the tokenizer to the text (question & answer), treating them as a text-pair.\n",
        "    input_ids = tokenizer.encode(question, answer_text)\n",
        "\n",
        "    # Segment IDs: Search inside the input_ids the \"[SEP]\" token to split both inputs.\n",
        "    sep_index = input_ids.index(tokenizer.sep_token_id)\n",
        "\n",
        "    # The number of segment A (question) tokens includes the \"[SEP]\" token istelf.\n",
        "    num_seg_a = sep_index + 1\n",
        "\n",
        "    # The remainder are segment B (answer text).\n",
        "    num_seg_b = len(input_ids) - num_seg_a\n",
        "\n",
        "    # Construct the list of 0s and 1s (one-hot encoded vector).\n",
        "    segment_ids = [0]*num_seg_a + [1]*num_seg_b\n",
        "\n",
        "    # There should be a segment_id for every input token.\n",
        "    assert len(segment_ids) == len(input_ids)\n",
        "\n",
        "    # Evaluate the question and the sentence containing the answer through the model.\n",
        "    start_scores, end_scores = model(torch.tensor([input_ids]), # The tokens representing input text.\n",
        "                                    token_type_ids=torch.tensor([segment_ids])) # The segment IDs to differentiate question from answer_text\n",
        "\n",
        "    # Reconstruct Answer: Find the tokens with the highest \"start\" and \"end\" scores.\n",
        "    answer_start = torch.argmax(start_scores)\n",
        "    answer_end = torch.argmax(end_scores)\n",
        "\n",
        "    # Get the string versions of the input tokens.\n",
        "    tokens = tokenizer.convert_ids_to_tokens(input_ids)\n",
        "\n",
        "    # Start with the first token.\n",
        "    answer = tokens[answer_start]\n",
        "\n",
        "    # Post-process: Select the remaining answer tokens and join them with whitespace.\n",
        "    for i in range(answer_start + 1, answer_end + 1):\n",
        "        \n",
        "        # If it's a subword token, then recombine it with the previous token.\n",
        "        if tokens[i][0:2] == '##':\n",
        "            answer += tokens[i][2:]\n",
        "        \n",
        "        # Otherwise, add a space then the token.\n",
        "        else:\n",
        "            answer += ' ' + tokens[i]\n",
        "\n",
        "    #print(\"Answer: \", answer)\n",
        "    #print(answer)\n",
        "    return answer"
      ],
      "execution_count": 8,
      "outputs": []
    },
    {
      "cell_type": "markdown",
      "metadata": {
        "id": "rxgi_m_DwbK8"
      },
      "source": [
        "### Analysis \n",
        "\n",
        "In onder to know better the function answer_question"
      ]
    },
    {
      "cell_type": "code",
      "metadata": {
        "id": "vrBKdY21wo5q"
      },
      "source": [
        "question, text = \"Who was Jim Henson?\", \"Jim Henson was a nice puppet\""
      ],
      "execution_count": 9,
      "outputs": []
    },
    {
      "cell_type": "code",
      "metadata": {
        "id": "Pb_cb4cdxBiD"
      },
      "source": [
        "input_text = [\"[START]\",\"Who\", \"was\", \"Jim\", \"Henson\", \"?\", \"[SEP]\", \"Jim\", \"Henson\", \"was\", \"a\", \"nice\", \"puppet\", \"[SEP]\"] "
      ],
      "execution_count": 10,
      "outputs": []
    },
    {
      "cell_type": "code",
      "metadata": {
        "colab": {
          "base_uri": "https://localhost:8080/"
        },
        "id": "IgzlJ5FEvfTj",
        "outputId": "5d7ece7d-f123-4be4-fe11-7e1a6185a759"
      },
      "source": [
        "input_ids = tokenizer.encode(question, text)\n",
        "print(input_text)\n",
        "print(input_ids)"
      ],
      "execution_count": 11,
      "outputs": [
        {
          "output_type": "stream",
          "text": [
            "['[START]', 'Who', 'was', 'Jim', 'Henson', '?', '[SEP]', 'Jim', 'Henson', 'was', 'a', 'nice', 'puppet', '[SEP]']\n",
            "[101, 2040, 2001, 3958, 27227, 1029, 102, 3958, 27227, 2001, 1037, 3835, 13997, 102]\n"
          ],
          "name": "stdout"
        }
      ]
    },
    {
      "cell_type": "code",
      "metadata": {
        "id": "fez6eI2R0V1G"
      },
      "source": [
        "sep_token = input_ids.index(tokenizer.sep_token_id)\n",
        "segment_ids = [0]*(sep_token + 1) + [1]*(len(input_ids) - (sep_token + 1))"
      ],
      "execution_count": 12,
      "outputs": []
    },
    {
      "cell_type": "code",
      "metadata": {
        "colab": {
          "base_uri": "https://localhost:8080/"
        },
        "id": "BTLPa-042637",
        "outputId": "89e096a3-467a-4fcd-dcd7-b8c87e6f1dd1"
      },
      "source": [
        "print(segment_ids)"
      ],
      "execution_count": 13,
      "outputs": [
        {
          "output_type": "stream",
          "text": [
            "[0, 0, 0, 0, 0, 0, 0, 1, 1, 1, 1, 1, 1, 1]\n"
          ],
          "name": "stdout"
        }
      ]
    },
    {
      "cell_type": "markdown",
      "metadata": {
        "id": "c4yN9zI3yrxI"
      },
      "source": [
        "### Spacy: selection of the paragraph/s\n",
        "\n",
        "Define functions to pre-process the chunks for the regression task:\n"
      ]
    },
    {
      "cell_type": "code",
      "metadata": {
        "id": "_n3F76tSO_10"
      },
      "source": [
        "def process_text(text):\n",
        "    '''\n",
        "    Before regression NLP task, it is necessary to\n",
        "    pre-process the input by removming stop words,\n",
        "    punctuation and pronouns.\n",
        "    '''\n",
        "    doc = nlp(text.lower())\n",
        "    result = []\n",
        "    for token in doc:\n",
        "        if token.text in nlp.Defaults.stop_words:\n",
        "            continue\n",
        "        if token.is_punct:\n",
        "            continue\n",
        "        if token.lemma_ ==\"-PRON-\":\n",
        "            continue\n",
        "        result.append(token.lemma_)\n",
        "    return \" \".join(result)"
      ],
      "execution_count": 14,
      "outputs": []
    },
    {
      "cell_type": "code",
      "metadata": {
        "id": "0bNHwuJ06t_2"
      },
      "source": [
        "def calculate_similarity(text1, text2):\n",
        "    '''\n",
        "    Takes the question and it compares with the \n",
        "    selected paragraph from the long document \n",
        "    to calculate the similarity (range between 0 and 1) \n",
        "    regression NLP task\n",
        "    '''\n",
        "    base = nlp(process_text(text1))\n",
        "    compare = nlp(process_text(text2))\n",
        "    return base.similarity(compare)"
      ],
      "execution_count": 15,
      "outputs": []
    },
    {
      "cell_type": "markdown",
      "metadata": {
        "id": "zd1xtuJjRH4i"
      },
      "source": [
        "## Q&A DEMO of BERT"
      ]
    },
    {
      "cell_type": "markdown",
      "metadata": {
        "id": "rUOjV5AEp_Ua"
      },
      "source": [
        "### Define text corpus\n",
        "\n",
        "Tika magic modue to convert unstructured from any format (.docx, .ppt, .pdf) to sructured txt for Spacy and Bert functions. "
      ]
    },
    {
      "cell_type": "code",
      "metadata": {
        "id": "t12Zk8uQp0CO"
      },
      "source": [
        "from tika import parser"
      ],
      "execution_count": 16,
      "outputs": []
    },
    {
      "cell_type": "code",
      "metadata": {
        "id": "EJCoLaxUEiHa",
        "colab": {
          "base_uri": "https://localhost:8080/"
        },
        "outputId": "a25c7ca0-eb40-45d0-bcd8-0bfd03cf9157"
      },
      "source": [
        "file = parser.from_file(\"/content/ai-definition.pdf\") # Input to the document\n",
        "\n",
        "# get the content of the pdf file\n",
        "text = file['content']"
      ],
      "execution_count": 18,
      "outputs": [
        {
          "output_type": "stream",
          "text": [
            "2021-04-05 11:47:28,621 [MainThread  ] [INFO ]  Retrieving http://search.maven.org/remotecontent?filepath=org/apache/tika/tika-server/1.24/tika-server-1.24.jar to /tmp/tika-server.jar.\n",
            "2021-04-05 11:47:29,291 [MainThread  ] [INFO ]  Retrieving http://search.maven.org/remotecontent?filepath=org/apache/tika/tika-server/1.24/tika-server-1.24.jar.md5 to /tmp/tika-server.jar.md5.\n",
            "2021-04-05 11:47:29,765 [MainThread  ] [WARNI]  Failed to see startup log message; retrying...\n"
          ],
          "name": "stderr"
        }
      ]
    },
    {
      "cell_type": "code",
      "metadata": {
        "id": "Uuupp_x9YVdu",
        "colab": {
          "base_uri": "https://localhost:8080/"
        },
        "outputId": "6ce6828a-4e19-48c1-b55d-abeb18f4d578"
      },
      "source": [
        "# Split the document in chunks of 512 words\n",
        "n = 2200 #Limit to 512 tokens (aprox 512 words)\n",
        "\n",
        "words = iter(text.split())\n",
        "lines, current = [], next(words)\n",
        "for word in words:\n",
        "    if len(current) + 1 + len(word) > n:\n",
        "        lines.append(current)\n",
        "        current = word\n",
        "    else:\n",
        "        current += \" \" + word\n",
        "lines.append(current) #store the chunks inside an array \n",
        "print(\"Number of chunks:\" ,len(lines))"
      ],
      "execution_count": 19,
      "outputs": [
        {
          "output_type": "stream",
          "text": [
            "Number of chunks: 11\n"
          ],
          "name": "stdout"
        }
      ]
    },
    {
      "cell_type": "markdown",
      "metadata": {
        "id": "CHRzxODgMwui"
      },
      "source": [
        "Sanity verification: Check the max length (limit of 512 tokens) due to model can not handle longer encoder vectors"
      ]
    },
    {
      "cell_type": "code",
      "metadata": {
        "id": "r5sGCRcspYSO",
        "colab": {
          "base_uri": "https://localhost:8080/"
        },
        "outputId": "b60163d4-a795-4421-c483-2295ee2b23fd"
      },
      "source": [
        "max_len = 0\n",
        "\n",
        "# For every sentence...\n",
        "for sent in lines:\n",
        "  \n",
        "    # Tokenize the text and add \"[CLS]\" and \"[SEP]\" tokens.\n",
        "    input_ids = tokenizer.encode(sent, add_special_tokens=True)\n",
        "\n",
        "    # Update the maximum sentence length.\n",
        "    max_len = max(max_len, len(input_ids))\n",
        "\n",
        "print('Max sentence length: ', max_len)"
      ],
      "execution_count": 20,
      "outputs": [
        {
          "output_type": "stream",
          "text": [
            "Max sentence length:  481\n"
          ],
          "name": "stdout"
        }
      ]
    },
    {
      "cell_type": "markdown",
      "metadata": {
        "id": "wVlvZpRdy2fx"
      },
      "source": [
        "## Spacy results + Answer (From 3 probable sentences)\n",
        "\n",
        "Feed BERT with the 1st probable sentence chunk and evalaute it, if there is not an aswer, feed BERT with the 2nd probable sentence ... until third probable sentence. "
      ]
    },
    {
      "cell_type": "code",
      "metadata": {
        "id": "pNR6J3VD3B8Q"
      },
      "source": [
        "question = \"What does it mean narrow AI?\""
      ],
      "execution_count": 21,
      "outputs": []
    },
    {
      "cell_type": "code",
      "metadata": {
        "id": "cRfAiuaQxJ_O",
        "colab": {
          "base_uri": "https://localhost:8080/"
        },
        "outputId": "4d57cdd4-2bc3-44b6-9446-3340272b35ed"
      },
      "source": [
        "# initialize the vec where the scores are save it.\n",
        "scores = []\n",
        "\n",
        "for sent in lines:\n",
        "  scores.append(calculate_similarity(question, sent))\n",
        "\n",
        "\n",
        "a = scores.index(max(scores))                          # Index most probable paragraph for the answer\n",
        "answer_fst = answer_question(question, lines[a])       # Get the answer\n",
        "\n",
        "if \"[CLS]\" in answer_fst:                              # Check the 1st answer\n",
        "  scores_3 = [scores.index(x) for x in sorted(scores, reverse=True)[:3]]\n",
        "  answer_fst = answer_question(question, lines[scores_3[1]])\n",
        "  if \"[CLS]\" in answer_fst:                            # Check the 2nd answer \n",
        "    answer_fst = answer_question(question, lines[scores_3[2]])\n",
        "    print (\"3rd answer:\", answer_fst)\n",
        "  else:\n",
        "    print (\"2nd answer:\", answer_fst)\n",
        "\n",
        "else:\n",
        "  print(\"1st answer:\", answer_fst)"
      ],
      "execution_count": 22,
      "outputs": [
        {
          "output_type": "stream",
          "text": [
            "1st answer: systems that can perform one or few specific tasks\n"
          ],
          "name": "stdout"
        }
      ]
    },
    {
      "cell_type": "markdown",
      "metadata": {
        "id": "llSDG8-k6slk"
      },
      "source": [
        "## BERT can speak\n",
        "\n",
        "Thanks to speech AIDL module, It is dediced to explote the obtained knowlegde and make this NLP task multidisciplinar and make BERT to speak by improting gTTs model:"
      ]
    },
    {
      "cell_type": "markdown",
      "metadata": {
        "id": "beJ3OWtEQf6g"
      },
      "source": [
        "### Install gTTs package"
      ]
    },
    {
      "cell_type": "code",
      "metadata": {
        "id": "RUaYs7Ds7taF",
        "colab": {
          "base_uri": "https://localhost:8080/"
        },
        "outputId": "8ebe51b1-40ad-4fa9-e591-35dcc4211641"
      },
      "source": [
        "!pip install gTTS"
      ],
      "execution_count": 23,
      "outputs": [
        {
          "output_type": "stream",
          "text": [
            "Collecting gTTS\n",
            "  Downloading https://files.pythonhosted.org/packages/5f/b9/94e59337107be134b21ce395a29fc0715b707b560108d6797de2d93e1178/gTTS-2.2.2-py3-none-any.whl\n",
            "Requirement already satisfied: six in /usr/local/lib/python3.7/dist-packages (from gTTS) (1.15.0)\n",
            "Requirement already satisfied: requests in /usr/local/lib/python3.7/dist-packages (from gTTS) (2.23.0)\n",
            "Requirement already satisfied: click in /usr/local/lib/python3.7/dist-packages (from gTTS) (7.1.2)\n",
            "Requirement already satisfied: certifi>=2017.4.17 in /usr/local/lib/python3.7/dist-packages (from requests->gTTS) (2020.12.5)\n",
            "Requirement already satisfied: urllib3!=1.25.0,!=1.25.1,<1.26,>=1.21.1 in /usr/local/lib/python3.7/dist-packages (from requests->gTTS) (1.24.3)\n",
            "Requirement already satisfied: idna<3,>=2.5 in /usr/local/lib/python3.7/dist-packages (from requests->gTTS) (2.10)\n",
            "Requirement already satisfied: chardet<4,>=3.0.2 in /usr/local/lib/python3.7/dist-packages (from requests->gTTS) (3.0.4)\n",
            "Installing collected packages: gTTS\n",
            "Successfully installed gTTS-2.2.2\n"
          ],
          "name": "stdout"
        }
      ]
    },
    {
      "cell_type": "code",
      "metadata": {
        "id": "OJipV0rqgQmD"
      },
      "source": [
        "import textwrap"
      ],
      "execution_count": 24,
      "outputs": []
    },
    {
      "cell_type": "markdown",
      "metadata": {
        "id": "0mvt58aG9heG"
      },
      "source": [
        "### Audio Answer"
      ]
    },
    {
      "cell_type": "code",
      "metadata": {
        "id": "lxMpUkoOtq2Q"
      },
      "source": [
        "question = \"What does it mean narrow AI?\""
      ],
      "execution_count": 25,
      "outputs": []
    },
    {
      "cell_type": "code",
      "metadata": {
        "id": "i1dOVHHh7jqc",
        "colab": {
          "base_uri": "https://localhost:8080/",
          "height": 147
        },
        "cellView": "form",
        "outputId": "78a4de38-709b-4f6f-991f-c60ae319230a"
      },
      "source": [
        "#@title BERT says:\n",
        "# initialize the vec where the scores are save it.\n",
        "scores = []\n",
        "\n",
        "print(\"Bert is reading...😎\")\n",
        "\n",
        "for sent in lines:\n",
        "  scores.append(calculate_similarity(question, sent))\n",
        "\n",
        "\n",
        "a = scores.index(max(scores))\n",
        "\n",
        "\n",
        "wrapper = textwrap.TextWrapper(width=\"150\")\n",
        "                          # Index most probable paragraph for the answer\n",
        "answer_fst = answer_question(question, lines[a])    # Get the answer\n",
        "\n",
        "print(\"Bert is thinking...🤓\")\n",
        "\n",
        "if \"[CLS]\" in answer_fst:                              # Check the answer\n",
        "  scores_3 = [scores.index(x) for x in sorted(scores, reverse=True)[:3]]\n",
        "  answer_fst = answer_question(question, lines[scores_3[1]])\n",
        "  if \"[CLS]\" in answer_fst:                            # Check the 2nd answer \n",
        "    answer_fst = answer_question(question, lines[scores_3[2]])\n",
        "    print (\"3rd answer:\", answer_fst)\n",
        "    print(\" \")\n",
        "    #print(wrapper.fill(lines[scores_3[2]]))\n",
        "  else:\n",
        "    print(\"2nd answer:\", answer_fst)\n",
        "    print(\" \")\n",
        "    #print(wrapper.fill(lines[scores_3[1]]))\n",
        "else:\n",
        "  print(\"1st answer 🧐:\", answer_fst)\n",
        "  print(\" \")\n",
        "  #print(wrapper.fill(lines[a]))\n",
        "\n",
        "#·title Voice\n",
        "from gtts import gTTS #Import Google Text to Speech\n",
        "from IPython.display import Audio #Import Audio method from IPython's Display Class\n",
        "tts = gTTS(answer_fst) #Provide the string to convert to speech\n",
        "tts.save('1.wav') #save the string converted to speech as a .wav file\n",
        "sound_file = '1.wav'\n",
        "Audio(sound_file, autoplay=True) \n",
        "\n",
        "#Autoplay = True will play the sound automatically\n",
        "#If you would not like to play the sound automatically, simply pass Autoplay = False."
      ],
      "execution_count": 26,
      "outputs": [
        {
          "output_type": "stream",
          "text": [
            "Bert is reading...😎\n",
            "Bert is thinking...🤓\n",
            "1st answer 🧐: systems that can perform one or few specific tasks\n",
            " \n"
          ],
          "name": "stdout"
        },
        {
          "output_type": "execute_result",
          "data": {
            "text/html": [
              "\n",
              "                <audio controls=\"controls\" autoplay=\"autoplay\">\n",
              "                    <source src=\"data:audio/x-wav;base64,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\" type=\"audio/x-wav\" />\n",
              "                    Your browser does not support the audio element.\n",
              "                </audio>\n",
              "              "
            ],
            "text/plain": [
              "<IPython.lib.display.Audio object>"
            ]
          },
          "metadata": {
            "tags": []
          },
          "execution_count": 26
        }
      ]
    }
  ]
}